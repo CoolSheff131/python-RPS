{
  "cells": [
    {
      "cell_type": "code",
      "execution_count": 2,
      "metadata": {
        "id": "igMyGnjE9hEp"
      },
      "outputs": [],
      "source": [
        "import csv\n",
        "\n",
        "import numpy as np\n",
        "import tensorflow as tf\n",
        "from sklearn.model_selection import train_test_split\n",
        "\n",
        "RANDOM_SEED = 42"
      ]
    },
    {
      "cell_type": "markdown",
      "metadata": {
        "id": "t2HDvhIu9hEr"
      },
      "source": [
        "# Specify each path"
      ]
    },
    {
      "cell_type": "code",
      "execution_count": 3,
      "metadata": {
        "id": "9NvZP2Zn9hEy"
      },
      "outputs": [],
      "source": [
        "dataset = 'model/keypoint_classifier/keypoint.csv'\n",
        "model_save_path = 'model/keypoint_classifier/keypoint_classifier.hdf5'\n",
        "tflite_save_path = 'model/keypoint_classifier/keypoint_classifier.tflite'"
      ]
    },
    {
      "cell_type": "markdown",
      "metadata": {
        "id": "s5oMH7x19hEz"
      },
      "source": [
        "# Set number of classes"
      ]
    },
    {
      "cell_type": "code",
      "execution_count": 4,
      "metadata": {
        "id": "du4kodXL9hEz"
      },
      "outputs": [],
      "source": [
        "NUM_CLASSES = 3"
      ]
    },
    {
      "cell_type": "markdown",
      "metadata": {
        "id": "XjnL0uso9hEz"
      },
      "source": [
        "# Dataset reading"
      ]
    },
    {
      "cell_type": "code",
      "execution_count": 5,
      "metadata": {
        "id": "QT5ZqtEz9hE0"
      },
      "outputs": [],
      "source": [
        "X_dataset = np.loadtxt(dataset, delimiter=',', dtype='float32', usecols=list(range(1, (21 * 2) + 1)))"
      ]
    },
    {
      "cell_type": "code",
      "execution_count": 6,
      "metadata": {
        "id": "QmoKFsp49hE0"
      },
      "outputs": [],
      "source": [
        "y_dataset = np.loadtxt(dataset, delimiter=',', dtype='int32', usecols=(0))"
      ]
    },
    {
      "cell_type": "code",
      "execution_count": 7,
      "metadata": {
        "id": "xQU7JTZ_9hE0"
      },
      "outputs": [],
      "source": [
        "X_train, X_test, y_train, y_test = train_test_split(X_dataset, y_dataset, train_size=0.75, random_state=RANDOM_SEED)"
      ]
    },
    {
      "cell_type": "markdown",
      "metadata": {
        "id": "mxK_lETT9hE0"
      },
      "source": [
        "# Model building"
      ]
    },
    {
      "cell_type": "code",
      "execution_count": 8,
      "metadata": {
        "id": "vHBmUf1t9hE1"
      },
      "outputs": [],
      "source": [
        "model = tf.keras.models.Sequential([\n",
        "    tf.keras.layers.Input((21 * 2, )),\n",
        "    tf.keras.layers.Dropout(0.2),\n",
        "    tf.keras.layers.Dense(20, activation='relu'),\n",
        "    tf.keras.layers.Dropout(0.4),\n",
        "    tf.keras.layers.Dense(10, activation='relu'),\n",
        "    tf.keras.layers.Dense(NUM_CLASSES, activation='softmax')\n",
        "])"
      ]
    },
    {
      "cell_type": "code",
      "execution_count": 9,
      "metadata": {
        "colab": {
          "base_uri": "https://localhost:8080/"
        },
        "id": "ypqky9tc9hE1",
        "outputId": "5db082bb-30e3-4110-bf63-a1ee777ecd46"
      },
      "outputs": [
        {
          "name": "stdout",
          "output_type": "stream",
          "text": [
            "Model: \"sequential\"\n",
            "_________________________________________________________________\n",
            " Layer (type)                Output Shape              Param #   \n",
            "=================================================================\n",
            " dropout (Dropout)           (None, 42)                0         \n",
            "                                                                 \n",
            " dense (Dense)               (None, 20)                860       \n",
            "                                                                 \n",
            " dropout_1 (Dropout)         (None, 20)                0         \n",
            "                                                                 \n",
            " dense_1 (Dense)             (None, 10)                210       \n",
            "                                                                 \n",
            " dense_2 (Dense)             (None, 3)                 33        \n",
            "                                                                 \n",
            "=================================================================\n",
            "Total params: 1,103\n",
            "Trainable params: 1,103\n",
            "Non-trainable params: 0\n",
            "_________________________________________________________________\n"
          ]
        }
      ],
      "source": [
        "model.summary()  # tf.keras.utils.plot_model(model, show_shapes=True)"
      ]
    },
    {
      "cell_type": "code",
      "execution_count": 10,
      "metadata": {
        "id": "MbMjOflQ9hE1"
      },
      "outputs": [],
      "source": [
        "# Model checkpoint callback\n",
        "cp_callback = tf.keras.callbacks.ModelCheckpoint(\n",
        "    model_save_path, verbose=1, save_weights_only=False)\n",
        "# Callback for early stopping\n",
        "es_callback = tf.keras.callbacks.EarlyStopping(patience=20, verbose=1)"
      ]
    },
    {
      "cell_type": "code",
      "execution_count": 11,
      "metadata": {
        "id": "c3Dac0M_9hE2"
      },
      "outputs": [],
      "source": [
        "# Model compilation\n",
        "model.compile(\n",
        "    optimizer='adam',\n",
        "    loss='sparse_categorical_crossentropy',\n",
        "    metrics=['accuracy']\n",
        ")"
      ]
    },
    {
      "cell_type": "markdown",
      "metadata": {
        "id": "7XI0j1Iu9hE2"
      },
      "source": [
        "# Model training"
      ]
    },
    {
      "cell_type": "code",
      "execution_count": 12,
      "metadata": {
        "colab": {
          "base_uri": "https://localhost:8080/"
        },
        "id": "WirBl-JE9hE3",
        "outputId": "71b30ca2-8294-4d9d-8aa2-800d90d399de",
        "scrolled": true
      },
      "outputs": [
        {
          "name": "stdout",
          "output_type": "stream",
          "text": [
            "Epoch 1/1000\n",
            "18/24 [=====================>........] - ETA: 0s - loss: 1.1601 - accuracy: 0.3694\n",
            "Epoch 1: saving model to model/keypoint_classifier\\keypoint_classifier.hdf5\n",
            "24/24 [==============================] - 5s 49ms/step - loss: 1.1414 - accuracy: 0.3803 - val_loss: 1.0364 - val_accuracy: 0.5483\n",
            "Epoch 2/1000\n",
            "18/24 [=====================>........] - ETA: 0s - loss: 1.0562 - accuracy: 0.4301\n",
            "Epoch 2: saving model to model/keypoint_classifier\\keypoint_classifier.hdf5\n",
            "24/24 [==============================] - 0s 15ms/step - loss: 1.0448 - accuracy: 0.4428 - val_loss: 0.9637 - val_accuracy: 0.6174\n",
            "Epoch 3/1000\n",
            "21/24 [=========================>....] - ETA: 0s - loss: 1.0016 - accuracy: 0.4676\n",
            "Epoch 3: saving model to model/keypoint_classifier\\keypoint_classifier.hdf5\n",
            "24/24 [==============================] - 0s 15ms/step - loss: 1.0005 - accuracy: 0.4674 - val_loss: 0.9073 - val_accuracy: 0.6982\n",
            "Epoch 4/1000\n",
            "17/24 [====================>.........] - ETA: 0s - loss: 0.9573 - accuracy: 0.5253\n",
            "Epoch 4: saving model to model/keypoint_classifier\\keypoint_classifier.hdf5\n",
            "24/24 [==============================] - 0s 16ms/step - loss: 0.9603 - accuracy: 0.5161 - val_loss: 0.8588 - val_accuracy: 0.7357\n",
            "Epoch 5/1000\n",
            "23/24 [===========================>..] - ETA: 0s - loss: 0.9397 - accuracy: 0.5323\n",
            "Epoch 5: saving model to model/keypoint_classifier\\keypoint_classifier.hdf5\n",
            "24/24 [==============================] - 0s 18ms/step - loss: 0.9385 - accuracy: 0.5352 - val_loss: 0.8337 - val_accuracy: 0.7288\n",
            "Epoch 6/1000\n",
            "18/24 [=====================>........] - ETA: 0s - loss: 0.9180 - accuracy: 0.5768\n",
            "Epoch 6: saving model to model/keypoint_classifier\\keypoint_classifier.hdf5\n",
            "24/24 [==============================] - 0s 16ms/step - loss: 0.9072 - accuracy: 0.5819 - val_loss: 0.7822 - val_accuracy: 0.7416\n",
            "Epoch 7/1000\n",
            "18/24 [=====================>........] - ETA: 0s - loss: 0.8846 - accuracy: 0.5790\n",
            "Epoch 7: saving model to model/keypoint_classifier\\keypoint_classifier.hdf5\n",
            "24/24 [==============================] - 0s 16ms/step - loss: 0.8743 - accuracy: 0.5786 - val_loss: 0.7461 - val_accuracy: 0.7387\n",
            "Epoch 8/1000\n",
            "14/24 [================>.............] - ETA: 0s - loss: 0.8634 - accuracy: 0.6038\n",
            "Epoch 8: saving model to model/keypoint_classifier\\keypoint_classifier.hdf5\n",
            "24/24 [==============================] - 0s 10ms/step - loss: 0.8577 - accuracy: 0.6089 - val_loss: 0.7104 - val_accuracy: 0.7436\n",
            "Epoch 9/1000\n",
            "22/24 [==========================>...] - ETA: 0s - loss: 0.8251 - accuracy: 0.6101\n",
            "Epoch 9: saving model to model/keypoint_classifier\\keypoint_classifier.hdf5\n",
            "24/24 [==============================] - 0s 8ms/step - loss: 0.8263 - accuracy: 0.6092 - val_loss: 0.6704 - val_accuracy: 0.7456\n",
            "Epoch 10/1000\n",
            "18/24 [=====================>........] - ETA: 0s - loss: 0.8083 - accuracy: 0.6220\n",
            "Epoch 10: saving model to model/keypoint_classifier\\keypoint_classifier.hdf5\n",
            "24/24 [==============================] - 0s 6ms/step - loss: 0.8035 - accuracy: 0.6234 - val_loss: 0.6463 - val_accuracy: 0.7426\n",
            "Epoch 11/1000\n",
            "24/24 [==============================] - ETA: 0s - loss: 0.7837 - accuracy: 0.6283\n",
            "Epoch 11: saving model to model/keypoint_classifier\\keypoint_classifier.hdf5\n",
            "24/24 [==============================] - 0s 7ms/step - loss: 0.7837 - accuracy: 0.6283 - val_loss: 0.6143 - val_accuracy: 0.7544\n",
            "Epoch 12/1000\n",
            "19/24 [======================>.......] - ETA: 0s - loss: 0.7479 - accuracy: 0.6562\n",
            "Epoch 12: saving model to model/keypoint_classifier\\keypoint_classifier.hdf5\n",
            "24/24 [==============================] - 0s 6ms/step - loss: 0.7519 - accuracy: 0.6516 - val_loss: 0.5899 - val_accuracy: 0.7594\n",
            "Epoch 13/1000\n",
            "22/24 [==========================>...] - ETA: 0s - loss: 0.7598 - accuracy: 0.6449\n",
            "Epoch 13: saving model to model/keypoint_classifier\\keypoint_classifier.hdf5\n",
            "24/24 [==============================] - 0s 6ms/step - loss: 0.7548 - accuracy: 0.6487 - val_loss: 0.5683 - val_accuracy: 0.7653\n",
            "Epoch 14/1000\n",
            "22/24 [==========================>...] - ETA: 0s - loss: 0.7368 - accuracy: 0.6573\n",
            "Epoch 14: saving model to model/keypoint_classifier\\keypoint_classifier.hdf5\n",
            "24/24 [==============================] - 0s 6ms/step - loss: 0.7364 - accuracy: 0.6569 - val_loss: 0.5484 - val_accuracy: 0.7761\n",
            "Epoch 15/1000\n",
            "21/24 [=========================>....] - ETA: 0s - loss: 0.7174 - accuracy: 0.6674\n",
            "Epoch 15: saving model to model/keypoint_classifier\\keypoint_classifier.hdf5\n",
            "24/24 [==============================] - 0s 12ms/step - loss: 0.7136 - accuracy: 0.6687 - val_loss: 0.5262 - val_accuracy: 0.7998\n",
            "Epoch 16/1000\n",
            "20/24 [========================>.....] - ETA: 0s - loss: 0.7030 - accuracy: 0.6680\n",
            "Epoch 16: saving model to model/keypoint_classifier\\keypoint_classifier.hdf5\n",
            "24/24 [==============================] - 0s 12ms/step - loss: 0.7038 - accuracy: 0.6694 - val_loss: 0.5066 - val_accuracy: 0.8245\n",
            "Epoch 17/1000\n",
            "15/24 [=================>............] - ETA: 0s - loss: 0.6589 - accuracy: 0.6969\n",
            "Epoch 17: saving model to model/keypoint_classifier\\keypoint_classifier.hdf5\n",
            "24/24 [==============================] - 0s 15ms/step - loss: 0.6619 - accuracy: 0.6941 - val_loss: 0.4736 - val_accuracy: 0.8383\n",
            "Epoch 18/1000\n",
            "21/24 [=========================>....] - ETA: 0s - loss: 0.6652 - accuracy: 0.6987\n",
            "Epoch 18: saving model to model/keypoint_classifier\\keypoint_classifier.hdf5\n",
            "24/24 [==============================] - 0s 18ms/step - loss: 0.6616 - accuracy: 0.6997 - val_loss: 0.4638 - val_accuracy: 0.8422\n",
            "Epoch 19/1000\n",
            "22/24 [==========================>...] - ETA: 0s - loss: 0.6632 - accuracy: 0.6942\n",
            "Epoch 19: saving model to model/keypoint_classifier\\keypoint_classifier.hdf5\n",
            "24/24 [==============================] - 0s 19ms/step - loss: 0.6664 - accuracy: 0.6947 - val_loss: 0.4452 - val_accuracy: 0.8511\n",
            "Epoch 20/1000\n",
            "19/24 [======================>.......] - ETA: 0s - loss: 0.6483 - accuracy: 0.7085\n",
            "Epoch 20: saving model to model/keypoint_classifier\\keypoint_classifier.hdf5\n",
            "24/24 [==============================] - 0s 14ms/step - loss: 0.6551 - accuracy: 0.7069 - val_loss: 0.4348 - val_accuracy: 0.8501\n",
            "Epoch 21/1000\n",
            "19/24 [======================>.......] - ETA: 0s - loss: 0.6416 - accuracy: 0.7085\n",
            "Epoch 21: saving model to model/keypoint_classifier\\keypoint_classifier.hdf5\n",
            "24/24 [==============================] - 0s 15ms/step - loss: 0.6427 - accuracy: 0.7095 - val_loss: 0.4222 - val_accuracy: 0.8560\n",
            "Epoch 22/1000\n",
            "24/24 [==============================] - ETA: 0s - loss: 0.6377 - accuracy: 0.7211\n",
            "Epoch 22: saving model to model/keypoint_classifier\\keypoint_classifier.hdf5\n",
            "24/24 [==============================] - 0s 11ms/step - loss: 0.6377 - accuracy: 0.7211 - val_loss: 0.4100 - val_accuracy: 0.8580\n",
            "Epoch 23/1000\n",
            "24/24 [==============================] - ETA: 0s - loss: 0.6128 - accuracy: 0.7329\n",
            "Epoch 23: saving model to model/keypoint_classifier\\keypoint_classifier.hdf5\n",
            "24/24 [==============================] - 0s 13ms/step - loss: 0.6128 - accuracy: 0.7329 - val_loss: 0.3953 - val_accuracy: 0.8728\n",
            "Epoch 24/1000\n",
            "21/24 [=========================>....] - ETA: 0s - loss: 0.6110 - accuracy: 0.7355\n",
            "Epoch 24: saving model to model/keypoint_classifier\\keypoint_classifier.hdf5\n",
            "24/24 [==============================] - 0s 12ms/step - loss: 0.6037 - accuracy: 0.7382 - val_loss: 0.3815 - val_accuracy: 0.8846\n",
            "Epoch 25/1000\n",
            "12/24 [==============>...............] - ETA: 0s - loss: 0.6205 - accuracy: 0.7305\n",
            "Epoch 25: saving model to model/keypoint_classifier\\keypoint_classifier.hdf5\n",
            "24/24 [==============================] - 0s 7ms/step - loss: 0.6016 - accuracy: 0.7382 - val_loss: 0.3782 - val_accuracy: 0.8817\n",
            "Epoch 26/1000\n",
            "19/24 [======================>.......] - ETA: 0s - loss: 0.6061 - accuracy: 0.7303\n",
            "Epoch 26: saving model to model/keypoint_classifier\\keypoint_classifier.hdf5\n",
            "24/24 [==============================] - 0s 6ms/step - loss: 0.6071 - accuracy: 0.7326 - val_loss: 0.3665 - val_accuracy: 0.9073\n",
            "Epoch 27/1000\n",
            " 1/24 [>.............................] - ETA: 0s - loss: 0.6428 - accuracy: 0.6953\n",
            "Epoch 27: saving model to model/keypoint_classifier\\keypoint_classifier.hdf5\n",
            "24/24 [==============================] - 0s 6ms/step - loss: 0.5978 - accuracy: 0.7362 - val_loss: 0.3588 - val_accuracy: 0.9172\n",
            "Epoch 28/1000\n",
            "24/24 [==============================] - ETA: 0s - loss: 0.5676 - accuracy: 0.7592\n",
            "Epoch 28: saving model to model/keypoint_classifier\\keypoint_classifier.hdf5\n",
            "24/24 [==============================] - 0s 5ms/step - loss: 0.5676 - accuracy: 0.7592 - val_loss: 0.3441 - val_accuracy: 0.9241\n",
            "Epoch 29/1000\n",
            "22/24 [==========================>...] - ETA: 0s - loss: 0.5827 - accuracy: 0.7489\n",
            "Epoch 29: saving model to model/keypoint_classifier\\keypoint_classifier.hdf5\n",
            "24/24 [==============================] - 0s 6ms/step - loss: 0.5806 - accuracy: 0.7543 - val_loss: 0.3401 - val_accuracy: 0.9191\n",
            "Epoch 30/1000\n",
            "21/24 [=========================>....] - ETA: 0s - loss: 0.5578 - accuracy: 0.7630\n",
            "Epoch 30: saving model to model/keypoint_classifier\\keypoint_classifier.hdf5\n",
            "24/24 [==============================] - 0s 6ms/step - loss: 0.5634 - accuracy: 0.7553 - val_loss: 0.3275 - val_accuracy: 0.9339\n",
            "Epoch 31/1000\n",
            " 1/24 [>.............................] - ETA: 0s - loss: 0.5639 - accuracy: 0.7812\n",
            "Epoch 31: saving model to model/keypoint_classifier\\keypoint_classifier.hdf5\n",
            "24/24 [==============================] - 0s 5ms/step - loss: 0.5636 - accuracy: 0.7661 - val_loss: 0.3220 - val_accuracy: 0.9438\n",
            "Epoch 32/1000\n",
            " 1/24 [>.............................] - ETA: 0s - loss: 0.4968 - accuracy: 0.7969\n",
            "Epoch 32: saving model to model/keypoint_classifier\\keypoint_classifier.hdf5\n",
            "24/24 [==============================] - 0s 5ms/step - loss: 0.5535 - accuracy: 0.7595 - val_loss: 0.3165 - val_accuracy: 0.9418\n",
            "Epoch 33/1000\n",
            " 1/24 [>.............................] - ETA: 0s - loss: 0.4893 - accuracy: 0.8203\n",
            "Epoch 33: saving model to model/keypoint_classifier\\keypoint_classifier.hdf5\n",
            "24/24 [==============================] - 0s 5ms/step - loss: 0.5452 - accuracy: 0.7691 - val_loss: 0.3085 - val_accuracy: 0.9379\n",
            "Epoch 34/1000\n",
            " 1/24 [>.............................] - ETA: 0s - loss: 0.4652 - accuracy: 0.8203\n",
            "Epoch 34: saving model to model/keypoint_classifier\\keypoint_classifier.hdf5\n",
            "24/24 [==============================] - 0s 5ms/step - loss: 0.5389 - accuracy: 0.7724 - val_loss: 0.2958 - val_accuracy: 0.9389\n",
            "Epoch 35/1000\n",
            " 1/24 [>.............................] - ETA: 0s - loss: 0.5285 - accuracy: 0.8281\n",
            "Epoch 35: saving model to model/keypoint_classifier\\keypoint_classifier.hdf5\n",
            "24/24 [==============================] - 0s 5ms/step - loss: 0.5399 - accuracy: 0.7737 - val_loss: 0.2962 - val_accuracy: 0.9448\n",
            "Epoch 36/1000\n",
            " 1/24 [>.............................] - ETA: 0s - loss: 0.5698 - accuracy: 0.7656\n",
            "Epoch 36: saving model to model/keypoint_classifier\\keypoint_classifier.hdf5\n",
            "24/24 [==============================] - 0s 5ms/step - loss: 0.5129 - accuracy: 0.7849 - val_loss: 0.2896 - val_accuracy: 0.9458\n",
            "Epoch 37/1000\n",
            " 1/24 [>.............................] - ETA: 0s - loss: 0.6006 - accuracy: 0.7266\n",
            "Epoch 37: saving model to model/keypoint_classifier\\keypoint_classifier.hdf5\n",
            "24/24 [==============================] - 0s 5ms/step - loss: 0.5306 - accuracy: 0.7789 - val_loss: 0.2864 - val_accuracy: 0.9369\n",
            "Epoch 38/1000\n",
            " 1/24 [>.............................] - ETA: 0s - loss: 0.4850 - accuracy: 0.7734\n",
            "Epoch 38: saving model to model/keypoint_classifier\\keypoint_classifier.hdf5\n",
            "24/24 [==============================] - 0s 5ms/step - loss: 0.5426 - accuracy: 0.7658 - val_loss: 0.2855 - val_accuracy: 0.9467\n",
            "Epoch 39/1000\n",
            " 1/24 [>.............................] - ETA: 0s - loss: 0.5175 - accuracy: 0.7812\n",
            "Epoch 39: saving model to model/keypoint_classifier\\keypoint_classifier.hdf5\n",
            "24/24 [==============================] - 0s 5ms/step - loss: 0.5372 - accuracy: 0.7671 - val_loss: 0.2770 - val_accuracy: 0.9477\n",
            "Epoch 40/1000\n",
            " 1/24 [>.............................] - ETA: 0s - loss: 0.4778 - accuracy: 0.7969\n",
            "Epoch 40: saving model to model/keypoint_classifier\\keypoint_classifier.hdf5\n",
            "24/24 [==============================] - 0s 5ms/step - loss: 0.5170 - accuracy: 0.7773 - val_loss: 0.2749 - val_accuracy: 0.9458\n",
            "Epoch 41/1000\n",
            "13/24 [===============>..............] - ETA: 0s - loss: 0.5308 - accuracy: 0.7794\n",
            "Epoch 41: saving model to model/keypoint_classifier\\keypoint_classifier.hdf5\n",
            "24/24 [==============================] - 0s 8ms/step - loss: 0.5271 - accuracy: 0.7740 - val_loss: 0.2667 - val_accuracy: 0.9507\n",
            "Epoch 42/1000\n",
            "21/24 [=========================>....] - ETA: 0s - loss: 0.5200 - accuracy: 0.7842\n",
            "Epoch 42: saving model to model/keypoint_classifier\\keypoint_classifier.hdf5\n",
            "24/24 [==============================] - 0s 12ms/step - loss: 0.5190 - accuracy: 0.7842 - val_loss: 0.2641 - val_accuracy: 0.9507\n",
            "Epoch 43/1000\n",
            "22/24 [==========================>...] - ETA: 0s - loss: 0.5089 - accuracy: 0.7855\n",
            "Epoch 43: saving model to model/keypoint_classifier\\keypoint_classifier.hdf5\n",
            "24/24 [==============================] - 0s 12ms/step - loss: 0.5093 - accuracy: 0.7849 - val_loss: 0.2566 - val_accuracy: 0.9546\n",
            "Epoch 44/1000\n",
            "13/24 [===============>..............] - ETA: 0s - loss: 0.5161 - accuracy: 0.7867\n",
            "Epoch 44: saving model to model/keypoint_classifier\\keypoint_classifier.hdf5\n",
            "24/24 [==============================] - 0s 11ms/step - loss: 0.5151 - accuracy: 0.7839 - val_loss: 0.2605 - val_accuracy: 0.9458\n",
            "Epoch 45/1000\n",
            "13/24 [===============>..............] - ETA: 0s - loss: 0.5236 - accuracy: 0.7692\n",
            "Epoch 45: saving model to model/keypoint_classifier\\keypoint_classifier.hdf5\n",
            "24/24 [==============================] - 0s 11ms/step - loss: 0.5151 - accuracy: 0.7786 - val_loss: 0.2569 - val_accuracy: 0.9477\n",
            "Epoch 46/1000\n",
            "24/24 [==============================] - ETA: 0s - loss: 0.5119 - accuracy: 0.7799\n",
            "Epoch 46: saving model to model/keypoint_classifier\\keypoint_classifier.hdf5\n",
            "24/24 [==============================] - 0s 18ms/step - loss: 0.5119 - accuracy: 0.7799 - val_loss: 0.2527 - val_accuracy: 0.9487\n",
            "Epoch 47/1000\n",
            "21/24 [=========================>....] - ETA: 0s - loss: 0.5020 - accuracy: 0.7887\n",
            "Epoch 47: saving model to model/keypoint_classifier\\keypoint_classifier.hdf5\n",
            "24/24 [==============================] - 1s 25ms/step - loss: 0.5039 - accuracy: 0.7865 - val_loss: 0.2466 - val_accuracy: 0.9517\n",
            "Epoch 48/1000\n",
            "24/24 [==============================] - ETA: 0s - loss: 0.4998 - accuracy: 0.7924\n",
            "Epoch 48: saving model to model/keypoint_classifier\\keypoint_classifier.hdf5\n",
            "24/24 [==============================] - 0s 17ms/step - loss: 0.4998 - accuracy: 0.7924 - val_loss: 0.2444 - val_accuracy: 0.9497\n",
            "Epoch 49/1000\n",
            "18/24 [=====================>........] - ETA: 0s - loss: 0.5245 - accuracy: 0.7817\n",
            "Epoch 49: saving model to model/keypoint_classifier\\keypoint_classifier.hdf5\n",
            "24/24 [==============================] - 0s 15ms/step - loss: 0.5255 - accuracy: 0.7839 - val_loss: 0.2483 - val_accuracy: 0.9507\n",
            "Epoch 50/1000\n",
            "23/24 [===========================>..] - ETA: 0s - loss: 0.4918 - accuracy: 0.7955\n",
            "Epoch 50: saving model to model/keypoint_classifier\\keypoint_classifier.hdf5\n",
            "24/24 [==============================] - 0s 17ms/step - loss: 0.4899 - accuracy: 0.7964 - val_loss: 0.2492 - val_accuracy: 0.9517\n",
            "Epoch 51/1000\n",
            "19/24 [======================>.......] - ETA: 0s - loss: 0.4900 - accuracy: 0.8063\n",
            "Epoch 51: saving model to model/keypoint_classifier\\keypoint_classifier.hdf5\n",
            "24/24 [==============================] - 0s 15ms/step - loss: 0.4799 - accuracy: 0.8072 - val_loss: 0.2429 - val_accuracy: 0.9517\n",
            "Epoch 52/1000\n",
            "18/24 [=====================>........] - ETA: 0s - loss: 0.4967 - accuracy: 0.7947\n",
            "Epoch 52: saving model to model/keypoint_classifier\\keypoint_classifier.hdf5\n",
            "24/24 [==============================] - 0s 15ms/step - loss: 0.4930 - accuracy: 0.7967 - val_loss: 0.2373 - val_accuracy: 0.9536\n",
            "Epoch 53/1000\n",
            "18/24 [=====================>........] - ETA: 0s - loss: 0.4859 - accuracy: 0.8034\n",
            "Epoch 53: saving model to model/keypoint_classifier\\keypoint_classifier.hdf5\n",
            "24/24 [==============================] - 0s 15ms/step - loss: 0.4880 - accuracy: 0.8026 - val_loss: 0.2363 - val_accuracy: 0.9556\n",
            "Epoch 54/1000\n",
            "20/24 [========================>.....] - ETA: 0s - loss: 0.4945 - accuracy: 0.8035\n",
            "Epoch 54: saving model to model/keypoint_classifier\\keypoint_classifier.hdf5\n",
            "24/24 [==============================] - 0s 15ms/step - loss: 0.4915 - accuracy: 0.8036 - val_loss: 0.2327 - val_accuracy: 0.9536\n",
            "Epoch 55/1000\n",
            "20/24 [========================>.....] - ETA: 0s - loss: 0.4914 - accuracy: 0.7992\n",
            "Epoch 55: saving model to model/keypoint_classifier\\keypoint_classifier.hdf5\n",
            "24/24 [==============================] - 1s 23ms/step - loss: 0.4915 - accuracy: 0.7967 - val_loss: 0.2302 - val_accuracy: 0.9517\n",
            "Epoch 56/1000\n",
            "18/24 [=====================>........] - ETA: 0s - loss: 0.4955 - accuracy: 0.7934\n",
            "Epoch 56: saving model to model/keypoint_classifier\\keypoint_classifier.hdf5\n",
            "24/24 [==============================] - 0s 18ms/step - loss: 0.4936 - accuracy: 0.7947 - val_loss: 0.2275 - val_accuracy: 0.9527\n",
            "Epoch 57/1000\n",
            "18/24 [=====================>........] - ETA: 0s - loss: 0.4753 - accuracy: 0.8047\n",
            "Epoch 57: saving model to model/keypoint_classifier\\keypoint_classifier.hdf5\n",
            "24/24 [==============================] - 0s 17ms/step - loss: 0.4730 - accuracy: 0.8043 - val_loss: 0.2284 - val_accuracy: 0.9517\n",
            "Epoch 58/1000\n",
            "18/24 [=====================>........] - ETA: 0s - loss: 0.4826 - accuracy: 0.8025\n",
            "Epoch 58: saving model to model/keypoint_classifier\\keypoint_classifier.hdf5\n",
            "24/24 [==============================] - 0s 15ms/step - loss: 0.4739 - accuracy: 0.8086 - val_loss: 0.2253 - val_accuracy: 0.9507\n",
            "Epoch 59/1000\n",
            "22/24 [==========================>...] - ETA: 0s - loss: 0.4759 - accuracy: 0.8001\n",
            "Epoch 59: saving model to model/keypoint_classifier\\keypoint_classifier.hdf5\n",
            "24/24 [==============================] - 0s 17ms/step - loss: 0.4788 - accuracy: 0.7997 - val_loss: 0.2299 - val_accuracy: 0.9467\n",
            "Epoch 60/1000\n",
            "21/24 [=========================>....] - ETA: 0s - loss: 0.4880 - accuracy: 0.8013\n",
            "Epoch 60: saving model to model/keypoint_classifier\\keypoint_classifier.hdf5\n",
            "24/24 [==============================] - 0s 7ms/step - loss: 0.4861 - accuracy: 0.8023 - val_loss: 0.2221 - val_accuracy: 0.9527\n",
            "Epoch 61/1000\n",
            "22/24 [==========================>...] - ETA: 0s - loss: 0.4880 - accuracy: 0.7955\n",
            "Epoch 61: saving model to model/keypoint_classifier\\keypoint_classifier.hdf5\n",
            "24/24 [==============================] - 0s 6ms/step - loss: 0.4857 - accuracy: 0.7954 - val_loss: 0.2261 - val_accuracy: 0.9546\n",
            "Epoch 62/1000\n",
            "22/24 [==========================>...] - ETA: 0s - loss: 0.4785 - accuracy: 0.8061\n",
            "Epoch 62: saving model to model/keypoint_classifier\\keypoint_classifier.hdf5\n",
            "24/24 [==============================] - 0s 6ms/step - loss: 0.4758 - accuracy: 0.8079 - val_loss: 0.2162 - val_accuracy: 0.9536\n",
            "Epoch 63/1000\n",
            "23/24 [===========================>..] - ETA: 0s - loss: 0.4908 - accuracy: 0.7982\n",
            "Epoch 63: saving model to model/keypoint_classifier\\keypoint_classifier.hdf5\n",
            "24/24 [==============================] - 0s 6ms/step - loss: 0.4878 - accuracy: 0.7990 - val_loss: 0.2166 - val_accuracy: 0.9546\n",
            "Epoch 64/1000\n",
            "18/24 [=====================>........] - ETA: 0s - loss: 0.4689 - accuracy: 0.8021\n",
            "Epoch 64: saving model to model/keypoint_classifier\\keypoint_classifier.hdf5\n",
            "24/24 [==============================] - 0s 7ms/step - loss: 0.4721 - accuracy: 0.8030 - val_loss: 0.2186 - val_accuracy: 0.9517\n",
            "Epoch 65/1000\n",
            "21/24 [=========================>....] - ETA: 0s - loss: 0.4822 - accuracy: 0.7961\n",
            "Epoch 65: saving model to model/keypoint_classifier\\keypoint_classifier.hdf5\n",
            "24/24 [==============================] - 0s 6ms/step - loss: 0.4779 - accuracy: 0.7997 - val_loss: 0.2125 - val_accuracy: 0.9576\n",
            "Epoch 66/1000\n",
            "17/24 [====================>.........] - ETA: 0s - loss: 0.4700 - accuracy: 0.8107\n",
            "Epoch 66: saving model to model/keypoint_classifier\\keypoint_classifier.hdf5\n",
            "24/24 [==============================] - 0s 7ms/step - loss: 0.4743 - accuracy: 0.8095 - val_loss: 0.2194 - val_accuracy: 0.9536\n",
            "Epoch 67/1000\n",
            "21/24 [=========================>....] - ETA: 0s - loss: 0.4712 - accuracy: 0.8039\n",
            "Epoch 67: saving model to model/keypoint_classifier\\keypoint_classifier.hdf5\n",
            "24/24 [==============================] - 0s 6ms/step - loss: 0.4687 - accuracy: 0.8066 - val_loss: 0.2071 - val_accuracy: 0.9606\n",
            "Epoch 68/1000\n",
            "22/24 [==========================>...] - ETA: 0s - loss: 0.4583 - accuracy: 0.8210\n",
            "Epoch 68: saving model to model/keypoint_classifier\\keypoint_classifier.hdf5\n",
            "24/24 [==============================] - 0s 6ms/step - loss: 0.4577 - accuracy: 0.8188 - val_loss: 0.2060 - val_accuracy: 0.9566\n",
            "Epoch 69/1000\n",
            "21/24 [=========================>....] - ETA: 0s - loss: 0.4525 - accuracy: 0.8151\n",
            "Epoch 69: saving model to model/keypoint_classifier\\keypoint_classifier.hdf5\n",
            "24/24 [==============================] - 0s 6ms/step - loss: 0.4486 - accuracy: 0.8158 - val_loss: 0.2069 - val_accuracy: 0.9566\n",
            "Epoch 70/1000\n",
            "21/24 [=========================>....] - ETA: 0s - loss: 0.4654 - accuracy: 0.8136\n",
            "Epoch 70: saving model to model/keypoint_classifier\\keypoint_classifier.hdf5\n",
            "24/24 [==============================] - 0s 7ms/step - loss: 0.4620 - accuracy: 0.8158 - val_loss: 0.2093 - val_accuracy: 0.9566\n",
            "Epoch 71/1000\n",
            "19/24 [======================>.......] - ETA: 0s - loss: 0.4577 - accuracy: 0.8150\n",
            "Epoch 71: saving model to model/keypoint_classifier\\keypoint_classifier.hdf5\n",
            "24/24 [==============================] - 0s 7ms/step - loss: 0.4527 - accuracy: 0.8178 - val_loss: 0.2071 - val_accuracy: 0.9576\n",
            "Epoch 72/1000\n",
            "19/24 [======================>.......] - ETA: 0s - loss: 0.4482 - accuracy: 0.8109\n",
            "Epoch 72: saving model to model/keypoint_classifier\\keypoint_classifier.hdf5\n",
            "24/24 [==============================] - 0s 7ms/step - loss: 0.4539 - accuracy: 0.8112 - val_loss: 0.2020 - val_accuracy: 0.9586\n",
            "Epoch 73/1000\n",
            "20/24 [========================>.....] - ETA: 0s - loss: 0.4458 - accuracy: 0.8211\n",
            "Epoch 73: saving model to model/keypoint_classifier\\keypoint_classifier.hdf5\n",
            "24/24 [==============================] - 0s 7ms/step - loss: 0.4509 - accuracy: 0.8184 - val_loss: 0.2053 - val_accuracy: 0.9576\n",
            "Epoch 74/1000\n",
            "21/24 [=========================>....] - ETA: 0s - loss: 0.4347 - accuracy: 0.8292\n",
            "Epoch 74: saving model to model/keypoint_classifier\\keypoint_classifier.hdf5\n",
            "24/24 [==============================] - 0s 11ms/step - loss: 0.4394 - accuracy: 0.8296 - val_loss: 0.1998 - val_accuracy: 0.9606\n",
            "Epoch 75/1000\n",
            "17/24 [====================>.........] - ETA: 0s - loss: 0.4730 - accuracy: 0.8134\n",
            "Epoch 75: saving model to model/keypoint_classifier\\keypoint_classifier.hdf5\n",
            "24/24 [==============================] - 0s 18ms/step - loss: 0.4637 - accuracy: 0.8161 - val_loss: 0.2004 - val_accuracy: 0.9576\n",
            "Epoch 76/1000\n",
            "19/24 [======================>.......] - ETA: 0s - loss: 0.4635 - accuracy: 0.8191\n",
            "Epoch 76: saving model to model/keypoint_classifier\\keypoint_classifier.hdf5\n",
            "24/24 [==============================] - 0s 13ms/step - loss: 0.4586 - accuracy: 0.8184 - val_loss: 0.2009 - val_accuracy: 0.9546\n",
            "Epoch 77/1000\n",
            "19/24 [======================>.......] - ETA: 0s - loss: 0.4558 - accuracy: 0.8096\n",
            "Epoch 77: saving model to model/keypoint_classifier\\keypoint_classifier.hdf5\n",
            "24/24 [==============================] - 0s 13ms/step - loss: 0.4515 - accuracy: 0.8109 - val_loss: 0.1990 - val_accuracy: 0.9576\n",
            "Epoch 78/1000\n",
            "19/24 [======================>.......] - ETA: 0s - loss: 0.4796 - accuracy: 0.8051\n",
            "Epoch 78: saving model to model/keypoint_classifier\\keypoint_classifier.hdf5\n",
            "24/24 [==============================] - 0s 15ms/step - loss: 0.4799 - accuracy: 0.8049 - val_loss: 0.2019 - val_accuracy: 0.9586\n",
            "Epoch 79/1000\n",
            "18/24 [=====================>........] - ETA: 0s - loss: 0.4396 - accuracy: 0.8220\n",
            "Epoch 79: saving model to model/keypoint_classifier\\keypoint_classifier.hdf5\n",
            "24/24 [==============================] - 0s 16ms/step - loss: 0.4404 - accuracy: 0.8240 - val_loss: 0.2014 - val_accuracy: 0.9586\n",
            "Epoch 80/1000\n",
            "17/24 [====================>.........] - ETA: 0s - loss: 0.4418 - accuracy: 0.8235\n",
            "Epoch 80: saving model to model/keypoint_classifier\\keypoint_classifier.hdf5\n",
            "24/24 [==============================] - 0s 15ms/step - loss: 0.4414 - accuracy: 0.8253 - val_loss: 0.1929 - val_accuracy: 0.9665\n",
            "Epoch 81/1000\n",
            "20/24 [========================>.....] - ETA: 0s - loss: 0.4213 - accuracy: 0.8305\n",
            "Epoch 81: saving model to model/keypoint_classifier\\keypoint_classifier.hdf5\n",
            "24/24 [==============================] - 0s 15ms/step - loss: 0.4304 - accuracy: 0.8286 - val_loss: 0.1920 - val_accuracy: 0.9606\n",
            "Epoch 82/1000\n",
            "19/24 [======================>.......] - ETA: 0s - loss: 0.4457 - accuracy: 0.8187\n",
            "Epoch 82: saving model to model/keypoint_classifier\\keypoint_classifier.hdf5\n",
            "24/24 [==============================] - 0s 18ms/step - loss: 0.4505 - accuracy: 0.8191 - val_loss: 0.2020 - val_accuracy: 0.9546\n",
            "Epoch 83/1000\n",
            "22/24 [==========================>...] - ETA: 0s - loss: 0.4272 - accuracy: 0.8352\n",
            "Epoch 83: saving model to model/keypoint_classifier\\keypoint_classifier.hdf5\n",
            "24/24 [==============================] - 0s 17ms/step - loss: 0.4287 - accuracy: 0.8352 - val_loss: 0.1944 - val_accuracy: 0.9625\n",
            "Epoch 84/1000\n",
            "23/24 [===========================>..] - ETA: 0s - loss: 0.4429 - accuracy: 0.8183\n",
            "Epoch 84: saving model to model/keypoint_classifier\\keypoint_classifier.hdf5\n",
            "24/24 [==============================] - 0s 16ms/step - loss: 0.4452 - accuracy: 0.8174 - val_loss: 0.1950 - val_accuracy: 0.9586\n",
            "Epoch 85/1000\n",
            "20/24 [========================>.....] - ETA: 0s - loss: 0.4430 - accuracy: 0.8234\n",
            "Epoch 85: saving model to model/keypoint_classifier\\keypoint_classifier.hdf5\n",
            "24/24 [==============================] - 0s 16ms/step - loss: 0.4460 - accuracy: 0.8191 - val_loss: 0.1856 - val_accuracy: 0.9606\n",
            "Epoch 86/1000\n",
            "17/24 [====================>.........] - ETA: 0s - loss: 0.4466 - accuracy: 0.8153\n",
            "Epoch 86: saving model to model/keypoint_classifier\\keypoint_classifier.hdf5\n",
            "24/24 [==============================] - 0s 14ms/step - loss: 0.4421 - accuracy: 0.8194 - val_loss: 0.1947 - val_accuracy: 0.9556\n",
            "Epoch 87/1000\n",
            "23/24 [===========================>..] - ETA: 0s - loss: 0.4396 - accuracy: 0.8278\n",
            "Epoch 87: saving model to model/keypoint_classifier\\keypoint_classifier.hdf5\n",
            "24/24 [==============================] - 0s 12ms/step - loss: 0.4397 - accuracy: 0.8270 - val_loss: 0.1929 - val_accuracy: 0.9566\n",
            "Epoch 88/1000\n",
            "22/24 [==========================>...] - ETA: 0s - loss: 0.4575 - accuracy: 0.8263\n",
            "Epoch 88: saving model to model/keypoint_classifier\\keypoint_classifier.hdf5\n",
            "24/24 [==============================] - 0s 15ms/step - loss: 0.4548 - accuracy: 0.8263 - val_loss: 0.1944 - val_accuracy: 0.9566\n",
            "Epoch 89/1000\n",
            "24/24 [==============================] - ETA: 0s - loss: 0.4258 - accuracy: 0.8306\n",
            "Epoch 89: saving model to model/keypoint_classifier\\keypoint_classifier.hdf5\n",
            "24/24 [==============================] - 0s 12ms/step - loss: 0.4258 - accuracy: 0.8306 - val_loss: 0.1926 - val_accuracy: 0.9606\n",
            "Epoch 90/1000\n",
            "12/24 [==============>...............] - ETA: 0s - loss: 0.4686 - accuracy: 0.8151\n",
            "Epoch 90: saving model to model/keypoint_classifier\\keypoint_classifier.hdf5\n",
            "24/24 [==============================] - 0s 7ms/step - loss: 0.4474 - accuracy: 0.8201 - val_loss: 0.1917 - val_accuracy: 0.9635\n",
            "Epoch 91/1000\n",
            " 1/24 [>.............................] - ETA: 0s - loss: 0.3960 - accuracy: 0.8203\n",
            "Epoch 91: saving model to model/keypoint_classifier\\keypoint_classifier.hdf5\n",
            "24/24 [==============================] - 0s 5ms/step - loss: 0.4316 - accuracy: 0.8293 - val_loss: 0.1859 - val_accuracy: 0.9625\n",
            "Epoch 92/1000\n",
            " 1/24 [>.............................] - ETA: 0s - loss: 0.3360 - accuracy: 0.8750\n",
            "Epoch 92: saving model to model/keypoint_classifier\\keypoint_classifier.hdf5\n",
            "24/24 [==============================] - 0s 5ms/step - loss: 0.4357 - accuracy: 0.8319 - val_loss: 0.1862 - val_accuracy: 0.9606\n",
            "Epoch 93/1000\n",
            "23/24 [===========================>..] - ETA: 0s - loss: 0.4313 - accuracy: 0.8298\n",
            "Epoch 93: saving model to model/keypoint_classifier\\keypoint_classifier.hdf5\n",
            "24/24 [==============================] - 0s 5ms/step - loss: 0.4264 - accuracy: 0.8316 - val_loss: 0.1840 - val_accuracy: 0.9615\n",
            "Epoch 94/1000\n",
            "17/24 [====================>.........] - ETA: 0s - loss: 0.4005 - accuracy: 0.8438\n",
            "Epoch 94: saving model to model/keypoint_classifier\\keypoint_classifier.hdf5\n",
            "24/24 [==============================] - 0s 7ms/step - loss: 0.4251 - accuracy: 0.8339 - val_loss: 0.1834 - val_accuracy: 0.9625\n",
            "Epoch 95/1000\n",
            "22/24 [==========================>...] - ETA: 0s - loss: 0.4347 - accuracy: 0.8210\n",
            "Epoch 95: saving model to model/keypoint_classifier\\keypoint_classifier.hdf5\n",
            "24/24 [==============================] - 0s 6ms/step - loss: 0.4339 - accuracy: 0.8237 - val_loss: 0.1841 - val_accuracy: 0.9625\n",
            "Epoch 96/1000\n",
            "24/24 [==============================] - ETA: 0s - loss: 0.4156 - accuracy: 0.8441\n",
            "Epoch 96: saving model to model/keypoint_classifier\\keypoint_classifier.hdf5\n",
            "24/24 [==============================] - 0s 5ms/step - loss: 0.4156 - accuracy: 0.8441 - val_loss: 0.1792 - val_accuracy: 0.9665\n",
            "Epoch 97/1000\n",
            "23/24 [===========================>..] - ETA: 0s - loss: 0.4271 - accuracy: 0.8370\n",
            "Epoch 97: saving model to model/keypoint_classifier\\keypoint_classifier.hdf5\n",
            "24/24 [==============================] - 0s 6ms/step - loss: 0.4278 - accuracy: 0.8359 - val_loss: 0.1847 - val_accuracy: 0.9635\n",
            "Epoch 98/1000\n",
            " 1/24 [>.............................] - ETA: 0s - loss: 0.3879 - accuracy: 0.8281\n",
            "Epoch 98: saving model to model/keypoint_classifier\\keypoint_classifier.hdf5\n",
            "24/24 [==============================] - 0s 6ms/step - loss: 0.4321 - accuracy: 0.8184 - val_loss: 0.1826 - val_accuracy: 0.9615\n",
            "Epoch 99/1000\n",
            "23/24 [===========================>..] - ETA: 0s - loss: 0.4369 - accuracy: 0.8254\n",
            "Epoch 99: saving model to model/keypoint_classifier\\keypoint_classifier.hdf5\n",
            "24/24 [==============================] - 0s 6ms/step - loss: 0.4352 - accuracy: 0.8260 - val_loss: 0.1824 - val_accuracy: 0.9625\n",
            "Epoch 100/1000\n",
            "23/24 [===========================>..] - ETA: 0s - loss: 0.4312 - accuracy: 0.8220\n",
            "Epoch 100: saving model to model/keypoint_classifier\\keypoint_classifier.hdf5\n",
            "24/24 [==============================] - 0s 6ms/step - loss: 0.4300 - accuracy: 0.8234 - val_loss: 0.1829 - val_accuracy: 0.9615\n",
            "Epoch 101/1000\n",
            " 1/24 [>.............................] - ETA: 0s - loss: 0.4605 - accuracy: 0.7812\n",
            "Epoch 101: saving model to model/keypoint_classifier\\keypoint_classifier.hdf5\n",
            "24/24 [==============================] - 0s 5ms/step - loss: 0.4226 - accuracy: 0.8309 - val_loss: 0.1847 - val_accuracy: 0.9615\n",
            "Epoch 102/1000\n",
            " 1/24 [>.............................] - ETA: 0s - loss: 0.4960 - accuracy: 0.7891\n",
            "Epoch 102: saving model to model/keypoint_classifier\\keypoint_classifier.hdf5\n",
            "24/24 [==============================] - 0s 5ms/step - loss: 0.4273 - accuracy: 0.8306 - val_loss: 0.1840 - val_accuracy: 0.9645\n",
            "Epoch 103/1000\n",
            "21/24 [=========================>....] - ETA: 0s - loss: 0.4261 - accuracy: 0.8344\n",
            "Epoch 103: saving model to model/keypoint_classifier\\keypoint_classifier.hdf5\n",
            "24/24 [==============================] - 0s 6ms/step - loss: 0.4261 - accuracy: 0.8336 - val_loss: 0.1840 - val_accuracy: 0.9586\n",
            "Epoch 104/1000\n",
            " 1/24 [>.............................] - ETA: 0s - loss: 0.4829 - accuracy: 0.8047\n",
            "Epoch 104: saving model to model/keypoint_classifier\\keypoint_classifier.hdf5\n",
            "24/24 [==============================] - 0s 5ms/step - loss: 0.4156 - accuracy: 0.8375 - val_loss: 0.1800 - val_accuracy: 0.9625\n",
            "Epoch 105/1000\n",
            "24/24 [==============================] - ETA: 0s - loss: 0.4302 - accuracy: 0.8250\n",
            "Epoch 105: saving model to model/keypoint_classifier\\keypoint_classifier.hdf5\n",
            "24/24 [==============================] - 0s 6ms/step - loss: 0.4302 - accuracy: 0.8250 - val_loss: 0.1869 - val_accuracy: 0.9645\n",
            "Epoch 106/1000\n",
            " 1/24 [>.............................] - ETA: 0s - loss: 0.4153 - accuracy: 0.8438\n",
            "Epoch 106: saving model to model/keypoint_classifier\\keypoint_classifier.hdf5\n",
            "24/24 [==============================] - 0s 5ms/step - loss: 0.4168 - accuracy: 0.8372 - val_loss: 0.1787 - val_accuracy: 0.9645\n",
            "Epoch 107/1000\n",
            "17/24 [====================>.........] - ETA: 0s - loss: 0.4352 - accuracy: 0.8212\n",
            "Epoch 107: saving model to model/keypoint_classifier\\keypoint_classifier.hdf5\n",
            "24/24 [==============================] - 0s 10ms/step - loss: 0.4244 - accuracy: 0.8257 - val_loss: 0.1841 - val_accuracy: 0.9586\n",
            "Epoch 108/1000\n",
            "20/24 [========================>.....] - ETA: 0s - loss: 0.4066 - accuracy: 0.8457\n",
            "Epoch 108: saving model to model/keypoint_classifier\\keypoint_classifier.hdf5\n",
            "24/24 [==============================] - 0s 13ms/step - loss: 0.4142 - accuracy: 0.8428 - val_loss: 0.1816 - val_accuracy: 0.9635\n",
            "Epoch 109/1000\n",
            "18/24 [=====================>........] - ETA: 0s - loss: 0.4179 - accuracy: 0.8320\n",
            "Epoch 109: saving model to model/keypoint_classifier\\keypoint_classifier.hdf5\n",
            "24/24 [==============================] - 0s 13ms/step - loss: 0.4132 - accuracy: 0.8336 - val_loss: 0.1854 - val_accuracy: 0.9635\n",
            "Epoch 110/1000\n",
            "21/24 [=========================>....] - ETA: 0s - loss: 0.4093 - accuracy: 0.8363\n",
            "Epoch 110: saving model to model/keypoint_classifier\\keypoint_classifier.hdf5\n",
            "24/24 [==============================] - 0s 18ms/step - loss: 0.4102 - accuracy: 0.8375 - val_loss: 0.1812 - val_accuracy: 0.9655\n",
            "Epoch 111/1000\n",
            "16/24 [===================>..........] - ETA: 0s - loss: 0.4224 - accuracy: 0.8296\n",
            "Epoch 111: saving model to model/keypoint_classifier\\keypoint_classifier.hdf5\n",
            "24/24 [==============================] - 0s 20ms/step - loss: 0.3996 - accuracy: 0.8421 - val_loss: 0.1744 - val_accuracy: 0.9625\n",
            "Epoch 112/1000\n",
            "17/24 [====================>.........] - ETA: 0s - loss: 0.4025 - accuracy: 0.8456\n",
            "Epoch 112: saving model to model/keypoint_classifier\\keypoint_classifier.hdf5\n",
            "24/24 [==============================] - 0s 16ms/step - loss: 0.4125 - accuracy: 0.8398 - val_loss: 0.1833 - val_accuracy: 0.9576\n",
            "Epoch 113/1000\n",
            "20/24 [========================>.....] - ETA: 0s - loss: 0.4230 - accuracy: 0.8336\n",
            "Epoch 113: saving model to model/keypoint_classifier\\keypoint_classifier.hdf5\n",
            "24/24 [==============================] - 0s 14ms/step - loss: 0.4157 - accuracy: 0.8372 - val_loss: 0.1731 - val_accuracy: 0.9635\n",
            "Epoch 114/1000\n",
            "21/24 [=========================>....] - ETA: 0s - loss: 0.4197 - accuracy: 0.8278\n",
            "Epoch 114: saving model to model/keypoint_classifier\\keypoint_classifier.hdf5\n",
            "24/24 [==============================] - 0s 14ms/step - loss: 0.4196 - accuracy: 0.8293 - val_loss: 0.1762 - val_accuracy: 0.9625\n",
            "Epoch 115/1000\n",
            "13/24 [===============>..............] - ETA: 0s - loss: 0.4155 - accuracy: 0.8389\n",
            "Epoch 115: saving model to model/keypoint_classifier\\keypoint_classifier.hdf5\n",
            "24/24 [==============================] - 0s 10ms/step - loss: 0.4214 - accuracy: 0.8326 - val_loss: 0.1762 - val_accuracy: 0.9645\n",
            "Epoch 116/1000\n",
            "23/24 [===========================>..] - ETA: 0s - loss: 0.4224 - accuracy: 0.8431\n",
            "Epoch 116: saving model to model/keypoint_classifier\\keypoint_classifier.hdf5\n",
            "24/24 [==============================] - 0s 11ms/step - loss: 0.4246 - accuracy: 0.8428 - val_loss: 0.1740 - val_accuracy: 0.9615\n",
            "Epoch 117/1000\n",
            "23/24 [===========================>..] - ETA: 0s - loss: 0.3942 - accuracy: 0.8444\n",
            "Epoch 117: saving model to model/keypoint_classifier\\keypoint_classifier.hdf5\n",
            "24/24 [==============================] - 0s 19ms/step - loss: 0.3933 - accuracy: 0.8451 - val_loss: 0.1805 - val_accuracy: 0.9566\n",
            "Epoch 118/1000\n",
            "21/24 [=========================>....] - ETA: 0s - loss: 0.4122 - accuracy: 0.8415\n",
            "Epoch 118: saving model to model/keypoint_classifier\\keypoint_classifier.hdf5\n",
            "24/24 [==============================] - 0s 17ms/step - loss: 0.4157 - accuracy: 0.8382 - val_loss: 0.1786 - val_accuracy: 0.9625\n",
            "Epoch 119/1000\n",
            "20/24 [========================>.....] - ETA: 0s - loss: 0.3994 - accuracy: 0.8453\n",
            "Epoch 119: saving model to model/keypoint_classifier\\keypoint_classifier.hdf5\n",
            "24/24 [==============================] - 0s 14ms/step - loss: 0.4006 - accuracy: 0.8444 - val_loss: 0.1708 - val_accuracy: 0.9665\n",
            "Epoch 120/1000\n",
            "14/24 [================>.............] - ETA: 0s - loss: 0.4401 - accuracy: 0.8220\n",
            "Epoch 120: saving model to model/keypoint_classifier\\keypoint_classifier.hdf5\n",
            "24/24 [==============================] - 0s 14ms/step - loss: 0.4337 - accuracy: 0.8306 - val_loss: 0.1762 - val_accuracy: 0.9596\n",
            "Epoch 121/1000\n",
            "22/24 [==========================>...] - ETA: 0s - loss: 0.4060 - accuracy: 0.8395\n",
            "Epoch 121: saving model to model/keypoint_classifier\\keypoint_classifier.hdf5\n",
            "24/24 [==============================] - 0s 11ms/step - loss: 0.4042 - accuracy: 0.8418 - val_loss: 0.1798 - val_accuracy: 0.9625\n",
            "Epoch 122/1000\n",
            "20/24 [========================>.....] - ETA: 0s - loss: 0.3892 - accuracy: 0.8480\n",
            "Epoch 122: saving model to model/keypoint_classifier\\keypoint_classifier.hdf5\n",
            "24/24 [==============================] - 0s 12ms/step - loss: 0.3960 - accuracy: 0.8454 - val_loss: 0.1709 - val_accuracy: 0.9675\n",
            "Epoch 123/1000\n",
            "20/24 [========================>.....] - ETA: 0s - loss: 0.4159 - accuracy: 0.8305\n",
            "Epoch 123: saving model to model/keypoint_classifier\\keypoint_classifier.hdf5\n",
            "24/24 [==============================] - 0s 14ms/step - loss: 0.4082 - accuracy: 0.8352 - val_loss: 0.1758 - val_accuracy: 0.9586\n",
            "Epoch 124/1000\n",
            "22/24 [==========================>...] - ETA: 0s - loss: 0.4102 - accuracy: 0.8420\n",
            "Epoch 124: saving model to model/keypoint_classifier\\keypoint_classifier.hdf5\n",
            "24/24 [==============================] - 0s 14ms/step - loss: 0.4127 - accuracy: 0.8411 - val_loss: 0.1779 - val_accuracy: 0.9615\n",
            "Epoch 125/1000\n",
            "19/24 [======================>.......] - ETA: 0s - loss: 0.4120 - accuracy: 0.8421\n",
            "Epoch 125: saving model to model/keypoint_classifier\\keypoint_classifier.hdf5\n",
            "24/24 [==============================] - 0s 19ms/step - loss: 0.4160 - accuracy: 0.8388 - val_loss: 0.1799 - val_accuracy: 0.9606\n",
            "Epoch 126/1000\n",
            "19/24 [======================>.......] - ETA: 0s - loss: 0.3960 - accuracy: 0.8462\n",
            "Epoch 126: saving model to model/keypoint_classifier\\keypoint_classifier.hdf5\n",
            "24/24 [==============================] - 0s 14ms/step - loss: 0.4025 - accuracy: 0.8411 - val_loss: 0.1805 - val_accuracy: 0.9596\n",
            "Epoch 127/1000\n",
            "17/24 [====================>.........] - ETA: 0s - loss: 0.3897 - accuracy: 0.8488\n",
            "Epoch 127: saving model to model/keypoint_classifier\\keypoint_classifier.hdf5\n",
            "24/24 [==============================] - 0s 7ms/step - loss: 0.3905 - accuracy: 0.8457 - val_loss: 0.1771 - val_accuracy: 0.9615\n",
            "Epoch 128/1000\n",
            "20/24 [========================>.....] - ETA: 0s - loss: 0.3888 - accuracy: 0.8465\n",
            "Epoch 128: saving model to model/keypoint_classifier\\keypoint_classifier.hdf5\n",
            "24/24 [==============================] - 0s 7ms/step - loss: 0.3912 - accuracy: 0.8451 - val_loss: 0.1733 - val_accuracy: 0.9675\n",
            "Epoch 129/1000\n",
            "20/24 [========================>.....] - ETA: 0s - loss: 0.3848 - accuracy: 0.8543\n",
            "Epoch 129: saving model to model/keypoint_classifier\\keypoint_classifier.hdf5\n",
            "24/24 [==============================] - 0s 6ms/step - loss: 0.3982 - accuracy: 0.8490 - val_loss: 0.1706 - val_accuracy: 0.9675\n",
            "Epoch 130/1000\n",
            "21/24 [=========================>....] - ETA: 0s - loss: 0.3894 - accuracy: 0.8497\n",
            "Epoch 130: saving model to model/keypoint_classifier\\keypoint_classifier.hdf5\n",
            "24/24 [==============================] - 0s 6ms/step - loss: 0.3920 - accuracy: 0.8493 - val_loss: 0.1682 - val_accuracy: 0.9665\n",
            "Epoch 131/1000\n",
            "23/24 [===========================>..] - ETA: 0s - loss: 0.4014 - accuracy: 0.8390\n",
            "Epoch 131: saving model to model/keypoint_classifier\\keypoint_classifier.hdf5\n",
            "24/24 [==============================] - 0s 6ms/step - loss: 0.3990 - accuracy: 0.8405 - val_loss: 0.1683 - val_accuracy: 0.9655\n",
            "Epoch 132/1000\n",
            "16/24 [===================>..........] - ETA: 0s - loss: 0.4032 - accuracy: 0.8423\n",
            "Epoch 132: saving model to model/keypoint_classifier\\keypoint_classifier.hdf5\n",
            "24/24 [==============================] - 0s 7ms/step - loss: 0.3938 - accuracy: 0.8447 - val_loss: 0.1689 - val_accuracy: 0.9665\n",
            "Epoch 133/1000\n",
            "23/24 [===========================>..] - ETA: 0s - loss: 0.4168 - accuracy: 0.8363\n",
            "Epoch 133: saving model to model/keypoint_classifier\\keypoint_classifier.hdf5\n",
            "24/24 [==============================] - 0s 6ms/step - loss: 0.4201 - accuracy: 0.8349 - val_loss: 0.1670 - val_accuracy: 0.9675\n",
            "Epoch 134/1000\n",
            "22/24 [==========================>...] - ETA: 0s - loss: 0.4063 - accuracy: 0.8352\n",
            "Epoch 134: saving model to model/keypoint_classifier\\keypoint_classifier.hdf5\n",
            "24/24 [==============================] - 0s 7ms/step - loss: 0.4064 - accuracy: 0.8342 - val_loss: 0.1670 - val_accuracy: 0.9665\n",
            "Epoch 135/1000\n",
            "19/24 [======================>.......] - ETA: 0s - loss: 0.4004 - accuracy: 0.8425\n",
            "Epoch 135: saving model to model/keypoint_classifier\\keypoint_classifier.hdf5\n",
            "24/24 [==============================] - 0s 6ms/step - loss: 0.3971 - accuracy: 0.8451 - val_loss: 0.1702 - val_accuracy: 0.9625\n",
            "Epoch 136/1000\n",
            "24/24 [==============================] - ETA: 0s - loss: 0.3982 - accuracy: 0.8467\n",
            "Epoch 136: saving model to model/keypoint_classifier\\keypoint_classifier.hdf5\n",
            "24/24 [==============================] - 0s 7ms/step - loss: 0.3982 - accuracy: 0.8467 - val_loss: 0.1694 - val_accuracy: 0.9675\n",
            "Epoch 137/1000\n",
            "16/24 [===================>..........] - ETA: 0s - loss: 0.4103 - accuracy: 0.8374\n",
            "Epoch 137: saving model to model/keypoint_classifier\\keypoint_classifier.hdf5\n",
            "24/24 [==============================] - 0s 8ms/step - loss: 0.4097 - accuracy: 0.8385 - val_loss: 0.1689 - val_accuracy: 0.9724\n",
            "Epoch 138/1000\n",
            "15/24 [=================>............] - ETA: 0s - loss: 0.3765 - accuracy: 0.8547\n",
            "Epoch 138: saving model to model/keypoint_classifier\\keypoint_classifier.hdf5\n",
            "24/24 [==============================] - 0s 7ms/step - loss: 0.3807 - accuracy: 0.8533 - val_loss: 0.1659 - val_accuracy: 0.9724\n",
            "Epoch 139/1000\n",
            "21/24 [=========================>....] - ETA: 0s - loss: 0.4020 - accuracy: 0.8393\n",
            "Epoch 139: saving model to model/keypoint_classifier\\keypoint_classifier.hdf5\n",
            "24/24 [==============================] - 0s 6ms/step - loss: 0.3969 - accuracy: 0.8421 - val_loss: 0.1676 - val_accuracy: 0.9714\n",
            "Epoch 140/1000\n",
            "24/24 [==============================] - ETA: 0s - loss: 0.3925 - accuracy: 0.8454\n",
            "Epoch 140: saving model to model/keypoint_classifier\\keypoint_classifier.hdf5\n",
            "24/24 [==============================] - 0s 6ms/step - loss: 0.3925 - accuracy: 0.8454 - val_loss: 0.1653 - val_accuracy: 0.9694\n",
            "Epoch 141/1000\n",
            "19/24 [======================>.......] - ETA: 0s - loss: 0.3978 - accuracy: 0.8466\n",
            "Epoch 141: saving model to model/keypoint_classifier\\keypoint_classifier.hdf5\n",
            "24/24 [==============================] - 0s 9ms/step - loss: 0.3958 - accuracy: 0.8470 - val_loss: 0.1672 - val_accuracy: 0.9665\n",
            "Epoch 142/1000\n",
            "24/24 [==============================] - ETA: 0s - loss: 0.3894 - accuracy: 0.8520\n",
            "Epoch 142: saving model to model/keypoint_classifier\\keypoint_classifier.hdf5\n",
            "24/24 [==============================] - 0s 11ms/step - loss: 0.3894 - accuracy: 0.8520 - val_loss: 0.1630 - val_accuracy: 0.9684\n",
            "Epoch 143/1000\n",
            "24/24 [==============================] - ETA: 0s - loss: 0.4064 - accuracy: 0.8418\n",
            "Epoch 143: saving model to model/keypoint_classifier\\keypoint_classifier.hdf5\n",
            "24/24 [==============================] - 0s 11ms/step - loss: 0.4064 - accuracy: 0.8418 - val_loss: 0.1652 - val_accuracy: 0.9694\n",
            "Epoch 144/1000\n",
            "24/24 [==============================] - ETA: 0s - loss: 0.3830 - accuracy: 0.8474\n",
            "Epoch 144: saving model to model/keypoint_classifier\\keypoint_classifier.hdf5\n",
            "24/24 [==============================] - 0s 15ms/step - loss: 0.3830 - accuracy: 0.8474 - val_loss: 0.1647 - val_accuracy: 0.9704\n",
            "Epoch 145/1000\n",
            "24/24 [==============================] - ETA: 0s - loss: 0.3842 - accuracy: 0.8467\n",
            "Epoch 145: saving model to model/keypoint_classifier\\keypoint_classifier.hdf5\n",
            "24/24 [==============================] - 0s 14ms/step - loss: 0.3842 - accuracy: 0.8467 - val_loss: 0.1678 - val_accuracy: 0.9645\n",
            "Epoch 146/1000\n",
            "18/24 [=====================>........] - ETA: 0s - loss: 0.3722 - accuracy: 0.8576\n",
            "Epoch 146: saving model to model/keypoint_classifier\\keypoint_classifier.hdf5\n",
            "24/24 [==============================] - 0s 18ms/step - loss: 0.3819 - accuracy: 0.8549 - val_loss: 0.1643 - val_accuracy: 0.9714\n",
            "Epoch 147/1000\n",
            "19/24 [======================>.......] - ETA: 0s - loss: 0.3596 - accuracy: 0.8594\n",
            "Epoch 147: saving model to model/keypoint_classifier\\keypoint_classifier.hdf5\n",
            "24/24 [==============================] - 0s 13ms/step - loss: 0.3647 - accuracy: 0.8543 - val_loss: 0.1650 - val_accuracy: 0.9684\n",
            "Epoch 148/1000\n",
            "22/24 [==========================>...] - ETA: 0s - loss: 0.3866 - accuracy: 0.8523\n",
            "Epoch 148: saving model to model/keypoint_classifier\\keypoint_classifier.hdf5\n",
            "24/24 [==============================] - 0s 13ms/step - loss: 0.3862 - accuracy: 0.8526 - val_loss: 0.1641 - val_accuracy: 0.9645\n",
            "Epoch 149/1000\n",
            "20/24 [========================>.....] - ETA: 0s - loss: 0.3659 - accuracy: 0.8551\n",
            "Epoch 149: saving model to model/keypoint_classifier\\keypoint_classifier.hdf5\n",
            "24/24 [==============================] - 0s 12ms/step - loss: 0.3660 - accuracy: 0.8569 - val_loss: 0.1661 - val_accuracy: 0.9655\n",
            "Epoch 150/1000\n",
            "22/24 [==========================>...] - ETA: 0s - loss: 0.3761 - accuracy: 0.8551\n",
            "Epoch 150: saving model to model/keypoint_classifier\\keypoint_classifier.hdf5\n",
            "24/24 [==============================] - 0s 19ms/step - loss: 0.3828 - accuracy: 0.8520 - val_loss: 0.1632 - val_accuracy: 0.9684\n",
            "Epoch 151/1000\n",
            "21/24 [=========================>....] - ETA: 0s - loss: 0.3810 - accuracy: 0.8542\n",
            "Epoch 151: saving model to model/keypoint_classifier\\keypoint_classifier.hdf5\n",
            "24/24 [==============================] - 0s 13ms/step - loss: 0.3854 - accuracy: 0.8520 - val_loss: 0.1589 - val_accuracy: 0.9714\n",
            "Epoch 152/1000\n",
            "23/24 [===========================>..] - ETA: 0s - loss: 0.3972 - accuracy: 0.8431\n",
            "Epoch 152: saving model to model/keypoint_classifier\\keypoint_classifier.hdf5\n",
            "24/24 [==============================] - 0s 12ms/step - loss: 0.3945 - accuracy: 0.8444 - val_loss: 0.1632 - val_accuracy: 0.9714\n",
            "Epoch 153/1000\n",
            "17/24 [====================>.........] - ETA: 0s - loss: 0.3724 - accuracy: 0.8529\n",
            "Epoch 153: saving model to model/keypoint_classifier\\keypoint_classifier.hdf5\n",
            "24/24 [==============================] - 0s 13ms/step - loss: 0.3746 - accuracy: 0.8546 - val_loss: 0.1591 - val_accuracy: 0.9704\n",
            "Epoch 154/1000\n",
            "23/24 [===========================>..] - ETA: 0s - loss: 0.3820 - accuracy: 0.8546\n",
            "Epoch 154: saving model to model/keypoint_classifier\\keypoint_classifier.hdf5\n",
            "24/24 [==============================] - 0s 13ms/step - loss: 0.3777 - accuracy: 0.8572 - val_loss: 0.1604 - val_accuracy: 0.9734\n",
            "Epoch 155/1000\n",
            "21/24 [=========================>....] - ETA: 0s - loss: 0.3645 - accuracy: 0.8609\n",
            "Epoch 155: saving model to model/keypoint_classifier\\keypoint_classifier.hdf5\n",
            "24/24 [==============================] - 0s 13ms/step - loss: 0.3671 - accuracy: 0.8599 - val_loss: 0.1556 - val_accuracy: 0.9734\n",
            "Epoch 156/1000\n",
            "21/24 [=========================>....] - ETA: 0s - loss: 0.3918 - accuracy: 0.8445\n",
            "Epoch 156: saving model to model/keypoint_classifier\\keypoint_classifier.hdf5\n",
            "24/24 [==============================] - 0s 19ms/step - loss: 0.3873 - accuracy: 0.8480 - val_loss: 0.1630 - val_accuracy: 0.9655\n",
            "Epoch 157/1000\n",
            "20/24 [========================>.....] - ETA: 0s - loss: 0.3938 - accuracy: 0.8488\n",
            "Epoch 157: saving model to model/keypoint_classifier\\keypoint_classifier.hdf5\n",
            "24/24 [==============================] - 0s 13ms/step - loss: 0.3979 - accuracy: 0.8451 - val_loss: 0.1688 - val_accuracy: 0.9675\n",
            "Epoch 158/1000\n",
            "23/24 [===========================>..] - ETA: 0s - loss: 0.3634 - accuracy: 0.8601\n",
            "Epoch 158: saving model to model/keypoint_classifier\\keypoint_classifier.hdf5\n",
            "24/24 [==============================] - 0s 12ms/step - loss: 0.3643 - accuracy: 0.8592 - val_loss: 0.1720 - val_accuracy: 0.9655\n",
            "Epoch 159/1000\n",
            "23/24 [===========================>..] - ETA: 0s - loss: 0.3849 - accuracy: 0.8522\n",
            "Epoch 159: saving model to model/keypoint_classifier\\keypoint_classifier.hdf5\n",
            "24/24 [==============================] - 0s 13ms/step - loss: 0.3813 - accuracy: 0.8536 - val_loss: 0.1669 - val_accuracy: 0.9684\n",
            "Epoch 160/1000\n",
            "20/24 [========================>.....] - ETA: 0s - loss: 0.3816 - accuracy: 0.8445\n",
            "Epoch 160: saving model to model/keypoint_classifier\\keypoint_classifier.hdf5\n",
            "24/24 [==============================] - 0s 14ms/step - loss: 0.3857 - accuracy: 0.8457 - val_loss: 0.1596 - val_accuracy: 0.9704\n",
            "Epoch 161/1000\n",
            "18/24 [=====================>........] - ETA: 0s - loss: 0.3735 - accuracy: 0.8576\n",
            "Epoch 161: saving model to model/keypoint_classifier\\keypoint_classifier.hdf5\n",
            "24/24 [==============================] - 0s 14ms/step - loss: 0.3742 - accuracy: 0.8539 - val_loss: 0.1652 - val_accuracy: 0.9724\n",
            "Epoch 162/1000\n",
            "17/24 [====================>.........] - ETA: 0s - loss: 0.3977 - accuracy: 0.8479\n",
            "Epoch 162: saving model to model/keypoint_classifier\\keypoint_classifier.hdf5\n",
            "24/24 [==============================] - 0s 7ms/step - loss: 0.3795 - accuracy: 0.8566 - val_loss: 0.1647 - val_accuracy: 0.9714\n",
            "Epoch 163/1000\n",
            "18/24 [=====================>........] - ETA: 0s - loss: 0.3819 - accuracy: 0.8520\n",
            "Epoch 163: saving model to model/keypoint_classifier\\keypoint_classifier.hdf5\n",
            "24/24 [==============================] - 0s 7ms/step - loss: 0.3804 - accuracy: 0.8503 - val_loss: 0.1652 - val_accuracy: 0.9675\n",
            "Epoch 164/1000\n",
            "19/24 [======================>.......] - ETA: 0s - loss: 0.3575 - accuracy: 0.8590\n",
            "Epoch 164: saving model to model/keypoint_classifier\\keypoint_classifier.hdf5\n",
            "24/24 [==============================] - 0s 7ms/step - loss: 0.3675 - accuracy: 0.8579 - val_loss: 0.1614 - val_accuracy: 0.9694\n",
            "Epoch 165/1000\n",
            "18/24 [=====================>........] - ETA: 0s - loss: 0.3621 - accuracy: 0.8650\n",
            "Epoch 165: saving model to model/keypoint_classifier\\keypoint_classifier.hdf5\n",
            "24/24 [==============================] - 0s 7ms/step - loss: 0.3592 - accuracy: 0.8648 - val_loss: 0.1580 - val_accuracy: 0.9684\n",
            "Epoch 166/1000\n",
            "20/24 [========================>.....] - ETA: 0s - loss: 0.3613 - accuracy: 0.8543\n",
            "Epoch 166: saving model to model/keypoint_classifier\\keypoint_classifier.hdf5\n",
            "24/24 [==============================] - 0s 7ms/step - loss: 0.3598 - accuracy: 0.8562 - val_loss: 0.1598 - val_accuracy: 0.9684\n",
            "Epoch 167/1000\n",
            "21/24 [=========================>....] - ETA: 0s - loss: 0.3761 - accuracy: 0.8523\n",
            "Epoch 167: saving model to model/keypoint_classifier\\keypoint_classifier.hdf5\n",
            "24/24 [==============================] - 0s 6ms/step - loss: 0.3753 - accuracy: 0.8546 - val_loss: 0.1677 - val_accuracy: 0.9684\n",
            "Epoch 168/1000\n",
            "22/24 [==========================>...] - ETA: 0s - loss: 0.3775 - accuracy: 0.8562\n",
            "Epoch 168: saving model to model/keypoint_classifier\\keypoint_classifier.hdf5\n",
            "24/24 [==============================] - 0s 6ms/step - loss: 0.3807 - accuracy: 0.8553 - val_loss: 0.1686 - val_accuracy: 0.9694\n",
            "Epoch 169/1000\n",
            "22/24 [==========================>...] - ETA: 0s - loss: 0.3573 - accuracy: 0.8565\n",
            "Epoch 169: saving model to model/keypoint_classifier\\keypoint_classifier.hdf5\n",
            "24/24 [==============================] - 0s 6ms/step - loss: 0.3585 - accuracy: 0.8566 - val_loss: 0.1607 - val_accuracy: 0.9724\n",
            "Epoch 170/1000\n",
            "19/24 [======================>.......] - ETA: 0s - loss: 0.3759 - accuracy: 0.8462\n",
            "Epoch 170: saving model to model/keypoint_classifier\\keypoint_classifier.hdf5\n",
            "24/24 [==============================] - 0s 6ms/step - loss: 0.3762 - accuracy: 0.8470 - val_loss: 0.1560 - val_accuracy: 0.9694\n",
            "Epoch 171/1000\n",
            "22/24 [==========================>...] - ETA: 0s - loss: 0.3754 - accuracy: 0.8555\n",
            "Epoch 171: saving model to model/keypoint_classifier\\keypoint_classifier.hdf5\n",
            "24/24 [==============================] - 0s 6ms/step - loss: 0.3715 - accuracy: 0.8569 - val_loss: 0.1624 - val_accuracy: 0.9694\n",
            "Epoch 172/1000\n",
            "23/24 [===========================>..] - ETA: 0s - loss: 0.3770 - accuracy: 0.8543\n",
            "Epoch 172: saving model to model/keypoint_classifier\\keypoint_classifier.hdf5\n",
            "24/24 [==============================] - 0s 6ms/step - loss: 0.3757 - accuracy: 0.8553 - val_loss: 0.1691 - val_accuracy: 0.9675\n",
            "Epoch 173/1000\n",
            "22/24 [==========================>...] - ETA: 0s - loss: 0.3645 - accuracy: 0.8569\n",
            "Epoch 173: saving model to model/keypoint_classifier\\keypoint_classifier.hdf5\n",
            "24/24 [==============================] - 0s 6ms/step - loss: 0.3595 - accuracy: 0.8599 - val_loss: 0.1662 - val_accuracy: 0.9714\n",
            "Epoch 174/1000\n",
            "22/24 [==========================>...] - ETA: 0s - loss: 0.3802 - accuracy: 0.8509\n",
            "Epoch 174: saving model to model/keypoint_classifier\\keypoint_classifier.hdf5\n",
            "24/24 [==============================] - 0s 6ms/step - loss: 0.3826 - accuracy: 0.8507 - val_loss: 0.1586 - val_accuracy: 0.9734\n",
            "Epoch 175/1000\n",
            "23/24 [===========================>..] - ETA: 0s - loss: 0.3791 - accuracy: 0.8567\n",
            "Epoch 175: saving model to model/keypoint_classifier\\keypoint_classifier.hdf5\n",
            "24/24 [==============================] - 0s 6ms/step - loss: 0.3823 - accuracy: 0.8539 - val_loss: 0.1612 - val_accuracy: 0.9714\n",
            "Epoch 175: early stopping\n"
          ]
        },
        {
          "data": {
            "text/plain": [
              "<keras.callbacks.History at 0x2167f8c1870>"
            ]
          },
          "execution_count": 12,
          "metadata": {},
          "output_type": "execute_result"
        }
      ],
      "source": [
        "model.fit(\n",
        "    X_train,\n",
        "    y_train,\n",
        "    epochs=1000,\n",
        "    batch_size=128,\n",
        "    validation_data=(X_test, y_test),\n",
        "    callbacks=[cp_callback, es_callback]\n",
        ")"
      ]
    },
    {
      "cell_type": "code",
      "execution_count": 13,
      "metadata": {
        "colab": {
          "base_uri": "https://localhost:8080/"
        },
        "id": "pxvb2Y299hE3",
        "outputId": "59eb3185-2e37-4b9e-bc9d-ab1b8ac29b7f"
      },
      "outputs": [
        {
          "name": "stdout",
          "output_type": "stream",
          "text": [
            "8/8 [==============================] - 0s 5ms/step - loss: 0.1612 - accuracy: 0.9714\n"
          ]
        }
      ],
      "source": [
        "# Model evaluation\n",
        "val_loss, val_acc = model.evaluate(X_test, y_test, batch_size=128)"
      ]
    },
    {
      "cell_type": "code",
      "execution_count": 14,
      "metadata": {
        "id": "RBkmDeUW9hE4"
      },
      "outputs": [],
      "source": [
        "# Loading the saved model\n",
        "model = tf.keras.models.load_model(model_save_path)"
      ]
    },
    {
      "cell_type": "code",
      "execution_count": 15,
      "metadata": {
        "colab": {
          "base_uri": "https://localhost:8080/"
        },
        "id": "tFz9Tb0I9hE4",
        "outputId": "1c3b3528-54ae-4ee2-ab04-77429211cbef"
      },
      "outputs": [
        {
          "name": "stdout",
          "output_type": "stream",
          "text": [
            "1/1 [==============================] - 0s 250ms/step\n",
            "[0.9297225  0.0665868  0.00369072]\n",
            "0\n"
          ]
        }
      ],
      "source": [
        "# Inference test\n",
        "predict_result = model.predict(np.array([X_test[0]]))\n",
        "print(np.squeeze(predict_result))\n",
        "print(np.argmax(np.squeeze(predict_result)))"
      ]
    },
    {
      "cell_type": "markdown",
      "metadata": {
        "id": "S3U4yNWx9hE4"
      },
      "source": [
        "# Confusion matrix"
      ]
    },
    {
      "cell_type": "code",
      "execution_count": 18,
      "metadata": {
        "colab": {
          "base_uri": "https://localhost:8080/",
          "height": 582
        },
        "id": "AP1V6SCk9hE5",
        "outputId": "08e41a80-7a4a-4619-8125-ecc371368d19"
      },
      "outputs": [
        {
          "name": "stdout",
          "output_type": "stream",
          "text": [
            "32/32 [==============================] - 0s 5ms/step\n"
          ]
        },
        {
          "data": {
            "image/png": "[encoded data removed]",
            "text/plain": [
              "<Figure size 700x600 with 2 Axes>"
            ]
          },
          "metadata": {},
          "output_type": "display_data"
        },
        {
          "name": "stdout",
          "output_type": "stream",
          "text": [
            "Classification Report\n",
            "              precision    recall  f1-score   support\n",
            "\n",
            "           0       0.97      0.98      0.97       407\n",
            "           1       1.00      0.97      0.98       382\n",
            "           2       0.94      0.97      0.95       225\n",
            "\n",
            "    accuracy                           0.97      1014\n",
            "   macro avg       0.97      0.97      0.97      1014\n",
            "weighted avg       0.97      0.97      0.97      1014\n",
            "\n"
          ]
        }
      ],
      "source": [
        "import pandas as pd\n",
        "import seaborn as sns\n",
        "import matplotlib.pyplot as plt\n",
        "from sklearn.metrics import confusion_matrix, classification_report\n",
        "\n",
        "def print_confusion_matrix(y_true, y_pred, report=True):\n",
        "    labels = sorted(list(set(y_true)))\n",
        "    cmx_data = confusion_matrix(y_true, y_pred, labels=labels)\n",
        "    \n",
        "    df_cmx = pd.DataFrame(cmx_data, index=labels, columns=labels)\n",
        " \n",
        "    fig, ax = plt.subplots(figsize=(7, 6))\n",
        "    sns.heatmap(df_cmx, annot=True, fmt='g' ,square=False)\n",
        "    ax.set_ylim(len(set(y_true)), 0)\n",
        "    plt.show()\n",
        "    \n",
        "    if report:\n",
        "        print('Classification Report')\n",
        "        print(classification_report(y_test, y_pred))\n",
        "\n",
        "Y_pred = model.predict(X_test)\n",
        "y_pred = np.argmax(Y_pred, axis=1)\n",
        "\n",
        "print_confusion_matrix(y_test, y_pred)"
      ]
    },
    {
      "cell_type": "markdown",
      "metadata": {
        "id": "FNP6aqzc9hE5"
      },
      "source": [
        "# Convert to model for Tensorflow-Lite"
      ]
    },
    {
      "cell_type": "code",
      "execution_count": 19,
      "metadata": {
        "id": "ODjnYyld9hE6"
      },
      "outputs": [],
      "source": [
        "# Save as a model dedicated to inference\n",
        "model.save(model_save_path, include_optimizer=False)"
      ]
    },
    {
      "cell_type": "code",
      "execution_count": 20,
      "metadata": {
        "colab": {
          "base_uri": "https://localhost:8080/"
        },
        "id": "zRfuK8Y59hE6",
        "outputId": "a4ca585c-b5d5-4244-8291-8674063209bb"
      },
      "outputs": [
        {
          "name": "stderr",
          "output_type": "stream",
          "text": [
            "WARNING:absl:Found untraced functions such as _update_step_xla while saving (showing 1 of 1). These functions will not be directly callable after loading.\n"
          ]
        },
        {
          "name": "stdout",
          "output_type": "stream",
          "text": [
            "INFO:tensorflow:Assets written to: C:\\Users\\aniku\\AppData\\Local\\Temp\\tmpsqcpwqh7\\assets\n"
          ]
        },
        {
          "name": "stderr",
          "output_type": "stream",
          "text": [
            "INFO:tensorflow:Assets written to: C:\\Users\\aniku\\AppData\\Local\\Temp\\tmpsqcpwqh7\\assets\n"
          ]
        },
        {
          "data": {
            "text/plain": [
              "6500"
            ]
          },
          "execution_count": 20,
          "metadata": {},
          "output_type": "execute_result"
        }
      ],
      "source": [
        "# Transform model (quantization)\n",
        "\n",
        "converter = tf.lite.TFLiteConverter.from_keras_model(model)\n",
        "converter.optimizations = [tf.lite.Optimize.DEFAULT]\n",
        "tflite_quantized_model = converter.convert()\n",
        "\n",
        "open(tflite_save_path, 'wb').write(tflite_quantized_model)"
      ]
    },
    {
      "cell_type": "markdown",
      "metadata": {
        "id": "CHBPBXdx9hE6"
      },
      "source": [
        "# Inference test"
      ]
    },
    {
      "cell_type": "code",
      "execution_count": 21,
      "metadata": {
        "id": "mGAzLocO9hE7"
      },
      "outputs": [],
      "source": [
        "interpreter = tf.lite.Interpreter(model_path=tflite_save_path)\n",
        "interpreter.allocate_tensors()"
      ]
    },
    {
      "cell_type": "code",
      "execution_count": 22,
      "metadata": {
        "id": "oQuDK8YS9hE7"
      },
      "outputs": [],
      "source": [
        "# Get I / O tensor\n",
        "input_details = interpreter.get_input_details()\n",
        "output_details = interpreter.get_output_details()"
      ]
    },
    {
      "cell_type": "code",
      "execution_count": 23,
      "metadata": {
        "id": "2_ixAf_l9hE7"
      },
      "outputs": [],
      "source": [
        "interpreter.set_tensor(input_details[0]['index'], np.array([X_test[0]]))"
      ]
    },
    {
      "cell_type": "code",
      "execution_count": 24,
      "metadata": {
        "colab": {
          "base_uri": "https://localhost:8080/"
        },
        "id": "s4FoAnuc9hE7",
        "outputId": "91f18257-8d8b-4ef3-c558-e9b5f94fabbf",
        "scrolled": true
      },
      "outputs": [
        {
          "name": "stdout",
          "output_type": "stream",
          "text": [
            "CPU times: total: 0 ns\n",
            "Wall time: 0 ns\n"
          ]
        }
      ],
      "source": [
        "%%time\n",
        "# Inference implementation\n",
        "interpreter.invoke()\n",
        "tflite_results = interpreter.get_tensor(output_details[0]['index'])"
      ]
    },
    {
      "cell_type": "code",
      "execution_count": 25,
      "metadata": {
        "colab": {
          "base_uri": "https://localhost:8080/"
        },
        "id": "vONjp19J9hE8",
        "outputId": "77205e24-fd00-42c4-f7b6-e06e527c2cba"
      },
      "outputs": [
        {
          "name": "stdout",
          "output_type": "stream",
          "text": [
            "[0.9297225  0.06658679 0.00369072]\n",
            "0\n"
          ]
        }
      ],
      "source": [
        "print(np.squeeze(tflite_results))\n",
        "print(np.argmax(np.squeeze(tflite_results)))"
      ]
    }
  ],
  "metadata": {
    "accelerator": "GPU",
    "colab": {
      "collapsed_sections": [],
      "name": "keypoint_classification_EN.ipynb",
      "provenance": [],
      "toc_visible": true
    },
    "kernelspec": {
      "display_name": "Python 3.10.0 ('venv': venv)",
      "language": "python",
      "name": "python3"
    },
    "language_info": {
      "codemirror_mode": {
        "name": "ipython",
        "version": 3
      },
      "file_extension": ".py",
      "mimetype": "text/x-python",
      "name": "python",
      "nbconvert_exporter": "python",
      "pygments_lexer": "ipython3",
      "version": "3.10.0"
    },
    "vscode": {
      "interpreter": {
        "hash": "924dd0d1e63a17f1f4221e0fce784cdfc3275c983bf9b4a354e5c70cada194fb"
      }
    }
  },
  "nbformat": 4,
  "nbformat_minor": 0
}
